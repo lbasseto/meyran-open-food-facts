{
 "cells": [
  {
   "cell_type": "markdown",
   "metadata": {},
   "source": [
    "# Quality of food offered in the World\n",
    "\n",
    "In this notebook we explore the [Open Food Facts database](https://world.openfoodfacts.org/). After loading, observing and cleaning the data in part 1, we start our analysis in part 2. In this second part, we uncover insights about the nutritional quality of food consumed around the world. Food habits vary among countries, we would like to point out which areas offer the least healthy options by observing the products offered there.\n",
    "\n",
    "More particularly, we will look at the following points:\n",
    "# TODO update avec vrais questions auxquelles on decide de repondre\n",
    "* How restrictions concerning additives in different countries affects the presence of these substances in foods around the world. We'll also look at whether banning an ingredient in a certain country reduces its presence in other places?\n",
    "* We will consider the amounts of sugar and fat availble in foods around the world.\n",
    "* We will look at how widespread ingredients like palm oil are."
   ]
  },
  {
   "cell_type": "markdown",
   "metadata": {},
   "source": [
    "# 1. Loading, Observing and Cleaning the Data."
   ]
  },
  {
   "cell_type": "markdown",
   "metadata": {},
   "source": [
    "## Loading the data and imports."
   ]
  },
  {
   "cell_type": "markdown",
   "metadata": {},
   "source": [
    "First, we import the necessary packages for our analysis. "
   ]
  },
  {
   "cell_type": "code",
   "execution_count": 1,
   "metadata": {},
   "outputs": [],
   "source": [
    "import pandas as pd\n",
    "import numpy as np\n",
    "\n",
    "from ast import literal_eval\n",
    "\n",
    "import matplotlib.pyplot as plt\n",
    "%matplotlib inline"
   ]
  },
  {
   "cell_type": "markdown",
   "metadata": {},
   "source": [
    "Then, we load the data and take a first look at it."
   ]
  },
  {
   "cell_type": "code",
   "execution_count": 2,
   "metadata": {},
   "outputs": [
    {
     "name": "stdout",
     "output_type": "stream",
     "text": [
      "(692133, 173)\n"
     ]
    },
    {
     "data": {
      "text/html": [
       "<div>\n",
       "<style scoped>\n",
       "    .dataframe tbody tr th:only-of-type {\n",
       "        vertical-align: middle;\n",
       "    }\n",
       "\n",
       "    .dataframe tbody tr th {\n",
       "        vertical-align: top;\n",
       "    }\n",
       "\n",
       "    .dataframe thead th {\n",
       "        text-align: right;\n",
       "    }\n",
       "</style>\n",
       "<table border=\"1\" class=\"dataframe\">\n",
       "  <thead>\n",
       "    <tr style=\"text-align: right;\">\n",
       "      <th></th>\n",
       "      <th>code</th>\n",
       "      <th>url</th>\n",
       "      <th>creator</th>\n",
       "      <th>created_t</th>\n",
       "      <th>created_datetime</th>\n",
       "      <th>last_modified_t</th>\n",
       "      <th>last_modified_datetime</th>\n",
       "      <th>product_name</th>\n",
       "      <th>generic_name</th>\n",
       "      <th>quantity</th>\n",
       "      <th>...</th>\n",
       "      <th>carbon-footprint_100g</th>\n",
       "      <th>nutrition-score-fr_100g</th>\n",
       "      <th>nutrition-score-uk_100g</th>\n",
       "      <th>glycemic-index_100g</th>\n",
       "      <th>water-hardness_100g</th>\n",
       "      <th>choline_100g</th>\n",
       "      <th>phylloquinone_100g</th>\n",
       "      <th>beta-glucan_100g</th>\n",
       "      <th>inositol_100g</th>\n",
       "      <th>carnitine_100g</th>\n",
       "    </tr>\n",
       "  </thead>\n",
       "  <tbody>\n",
       "    <tr>\n",
       "      <th>0</th>\n",
       "      <td>0000000000017</td>\n",
       "      <td>http://world-en.openfoodfacts.org/product/0000...</td>\n",
       "      <td>kiliweb</td>\n",
       "      <td>1529059080</td>\n",
       "      <td>2018-06-15T10:38:00Z</td>\n",
       "      <td>1529059204</td>\n",
       "      <td>2018-06-15T10:40:04Z</td>\n",
       "      <td>Vitória crackers</td>\n",
       "      <td>NaN</td>\n",
       "      <td>NaN</td>\n",
       "      <td>...</td>\n",
       "      <td>NaN</td>\n",
       "      <td>NaN</td>\n",
       "      <td>NaN</td>\n",
       "      <td>NaN</td>\n",
       "      <td>NaN</td>\n",
       "      <td>NaN</td>\n",
       "      <td>NaN</td>\n",
       "      <td>NaN</td>\n",
       "      <td>NaN</td>\n",
       "      <td>NaN</td>\n",
       "    </tr>\n",
       "    <tr>\n",
       "      <th>1</th>\n",
       "      <td>0000000000031</td>\n",
       "      <td>http://world-en.openfoodfacts.org/product/0000...</td>\n",
       "      <td>isagoofy</td>\n",
       "      <td>1539464774</td>\n",
       "      <td>2018-10-13T21:06:14Z</td>\n",
       "      <td>1539464817</td>\n",
       "      <td>2018-10-13T21:06:57Z</td>\n",
       "      <td>Cacao</td>\n",
       "      <td>NaN</td>\n",
       "      <td>130 g</td>\n",
       "      <td>...</td>\n",
       "      <td>NaN</td>\n",
       "      <td>NaN</td>\n",
       "      <td>NaN</td>\n",
       "      <td>NaN</td>\n",
       "      <td>NaN</td>\n",
       "      <td>NaN</td>\n",
       "      <td>NaN</td>\n",
       "      <td>NaN</td>\n",
       "      <td>NaN</td>\n",
       "      <td>NaN</td>\n",
       "    </tr>\n",
       "    <tr>\n",
       "      <th>2</th>\n",
       "      <td>0000000000123</td>\n",
       "      <td>http://world-en.openfoodfacts.org/product/0000...</td>\n",
       "      <td>kiliweb</td>\n",
       "      <td>1535737982</td>\n",
       "      <td>2018-08-31T17:53:02Z</td>\n",
       "      <td>1535737986</td>\n",
       "      <td>2018-08-31T17:53:06Z</td>\n",
       "      <td>Sauce Sweety chili 0%</td>\n",
       "      <td>NaN</td>\n",
       "      <td>NaN</td>\n",
       "      <td>...</td>\n",
       "      <td>NaN</td>\n",
       "      <td>NaN</td>\n",
       "      <td>NaN</td>\n",
       "      <td>NaN</td>\n",
       "      <td>NaN</td>\n",
       "      <td>NaN</td>\n",
       "      <td>NaN</td>\n",
       "      <td>NaN</td>\n",
       "      <td>NaN</td>\n",
       "      <td>NaN</td>\n",
       "    </tr>\n",
       "    <tr>\n",
       "      <th>3</th>\n",
       "      <td>0000000000291</td>\n",
       "      <td>http://world-en.openfoodfacts.org/product/0000...</td>\n",
       "      <td>kiliweb</td>\n",
       "      <td>1534239669</td>\n",
       "      <td>2018-08-14T09:41:09Z</td>\n",
       "      <td>1534239732</td>\n",
       "      <td>2018-08-14T09:42:12Z</td>\n",
       "      <td>Mendiants</td>\n",
       "      <td>NaN</td>\n",
       "      <td>NaN</td>\n",
       "      <td>...</td>\n",
       "      <td>NaN</td>\n",
       "      <td>NaN</td>\n",
       "      <td>NaN</td>\n",
       "      <td>NaN</td>\n",
       "      <td>NaN</td>\n",
       "      <td>NaN</td>\n",
       "      <td>NaN</td>\n",
       "      <td>NaN</td>\n",
       "      <td>NaN</td>\n",
       "      <td>NaN</td>\n",
       "    </tr>\n",
       "    <tr>\n",
       "      <th>4</th>\n",
       "      <td>0000000000949</td>\n",
       "      <td>http://world-en.openfoodfacts.org/product/0000...</td>\n",
       "      <td>kiliweb</td>\n",
       "      <td>1523440813</td>\n",
       "      <td>2018-04-11T10:00:13Z</td>\n",
       "      <td>1523440823</td>\n",
       "      <td>2018-04-11T10:00:23Z</td>\n",
       "      <td>Salade de carottes râpées</td>\n",
       "      <td>NaN</td>\n",
       "      <td>NaN</td>\n",
       "      <td>...</td>\n",
       "      <td>NaN</td>\n",
       "      <td>NaN</td>\n",
       "      <td>NaN</td>\n",
       "      <td>NaN</td>\n",
       "      <td>NaN</td>\n",
       "      <td>NaN</td>\n",
       "      <td>NaN</td>\n",
       "      <td>NaN</td>\n",
       "      <td>NaN</td>\n",
       "      <td>NaN</td>\n",
       "    </tr>\n",
       "  </tbody>\n",
       "</table>\n",
       "<p>5 rows × 173 columns</p>\n",
       "</div>"
      ],
      "text/plain": [
       "            code                                                url   creator  \\\n",
       "0  0000000000017  http://world-en.openfoodfacts.org/product/0000...   kiliweb   \n",
       "1  0000000000031  http://world-en.openfoodfacts.org/product/0000...  isagoofy   \n",
       "2  0000000000123  http://world-en.openfoodfacts.org/product/0000...   kiliweb   \n",
       "3  0000000000291  http://world-en.openfoodfacts.org/product/0000...   kiliweb   \n",
       "4  0000000000949  http://world-en.openfoodfacts.org/product/0000...   kiliweb   \n",
       "\n",
       "    created_t      created_datetime last_modified_t last_modified_datetime  \\\n",
       "0  1529059080  2018-06-15T10:38:00Z      1529059204   2018-06-15T10:40:04Z   \n",
       "1  1539464774  2018-10-13T21:06:14Z      1539464817   2018-10-13T21:06:57Z   \n",
       "2  1535737982  2018-08-31T17:53:02Z      1535737986   2018-08-31T17:53:06Z   \n",
       "3  1534239669  2018-08-14T09:41:09Z      1534239732   2018-08-14T09:42:12Z   \n",
       "4  1523440813  2018-04-11T10:00:13Z      1523440823   2018-04-11T10:00:23Z   \n",
       "\n",
       "                product_name generic_name quantity      ...        \\\n",
       "0           Vitória crackers          NaN      NaN      ...         \n",
       "1                      Cacao          NaN    130 g      ...         \n",
       "2      Sauce Sweety chili 0%          NaN      NaN      ...         \n",
       "3                  Mendiants          NaN      NaN      ...         \n",
       "4  Salade de carottes râpées          NaN      NaN      ...         \n",
       "\n",
       "  carbon-footprint_100g nutrition-score-fr_100g nutrition-score-uk_100g  \\\n",
       "0                   NaN                     NaN                     NaN   \n",
       "1                   NaN                     NaN                     NaN   \n",
       "2                   NaN                     NaN                     NaN   \n",
       "3                   NaN                     NaN                     NaN   \n",
       "4                   NaN                     NaN                     NaN   \n",
       "\n",
       "  glycemic-index_100g water-hardness_100g choline_100g phylloquinone_100g  \\\n",
       "0                 NaN                 NaN          NaN                NaN   \n",
       "1                 NaN                 NaN          NaN                NaN   \n",
       "2                 NaN                 NaN          NaN                NaN   \n",
       "3                 NaN                 NaN          NaN                NaN   \n",
       "4                 NaN                 NaN          NaN                NaN   \n",
       "\n",
       "  beta-glucan_100g inositol_100g carnitine_100g  \n",
       "0              NaN           NaN            NaN  \n",
       "1              NaN           NaN            NaN  \n",
       "2              NaN           NaN            NaN  \n",
       "3              NaN           NaN            NaN  \n",
       "4              NaN           NaN            NaN  \n",
       "\n",
       "[5 rows x 173 columns]"
      ]
     },
     "execution_count": 2,
     "metadata": {},
     "output_type": "execute_result"
    }
   ],
   "source": [
    "data_path = './data/'\n",
    "open_food_facts_path = data_path + 'en.openfoodfacts.org.products.csv'\n",
    "#subset_path = data_path + 'subset.csv'\n",
    "subsubset_path = data_path + 'subsubset.csv'\n",
    "\n",
    "df = pd.read_csv(open_food_facts_path, sep='\\t', low_memory = False, encoding='utf-8')\n",
    "print(df.shape)\n",
    "df.head()"
   ]
  },
  {
   "cell_type": "markdown",
   "metadata": {},
   "source": [
    "We have 692133 entries with 173 columns in the dataset."
   ]
  },
  {
   "cell_type": "markdown",
   "metadata": {},
   "source": [
    "## Removing empty columns."
   ]
  },
  {
   "cell_type": "markdown",
   "metadata": {},
   "source": [
    "Taking a brief look at the data, we notice that a lot of values are missing. Indeed, the data from open food facts is filled by regular users inputing information from the packaging of their food products. This leads to a lot of missing values as people do not generally fill all 173 columns available in the final database.\n",
    "\n",
    "Then what columns should we drop? We'll first look at what percentage of values are `nan` for each column."
   ]
  },
  {
   "cell_type": "code",
   "execution_count": 3,
   "metadata": {},
   "outputs": [
    {
     "data": {
      "text/plain": [
       "nutrition_grade_uk                       100.000000\n",
       "cities                                   100.000000\n",
       "ingredients_that_may_be_from_palm_oil    100.000000\n",
       "ingredients_from_palm_oil                100.000000\n",
       "-nervonic-acid_100g                       99.999856\n",
       "dtype: float64"
      ]
     },
     "execution_count": 3,
     "metadata": {},
     "output_type": "execute_result"
    }
   ],
   "source": [
    "number_of_rows = df.shape[0]\n",
    "amount_of_nan = df.isna().sum().apply(lambda x: x / number_of_rows * 100).sort_values(ascending = False)\n",
    "amount_of_nan.head()"
   ]
  },
  {
   "cell_type": "markdown",
   "metadata": {},
   "source": [
    "We will drop columns whose nan percentage is too high. We find all columns that have more than 99% of nan values. "
   ]
  },
  {
   "cell_type": "code",
   "execution_count": 4,
   "metadata": {},
   "outputs": [
    {
     "name": "stdout",
     "output_type": "stream",
     "text": [
      "['nutrition_grade_uk', 'cities', 'ingredients_that_may_be_from_palm_oil', 'ingredients_from_palm_oil', '-nervonic-acid_100g', 'phylloquinone_100g', '-erucic-acid_100g', 'water-hardness_100g', '-mead-acid_100g', '-butyric-acid_100g', '-caproic-acid_100g', '-elaidic-acid_100g', '-lignoceric-acid_100g', '-melissic-acid_100g', '-palmitic-acid_100g', '-caprylic-acid_100g', '-stearic-acid_100g', '-myristic-acid_100g', '-cerotic-acid_100g', 'chlorophyl_100g', 'glycemic-index_100g', '-montanic-acid_100g', '-capric-acid_100g', '-lauric-acid_100g', '-maltose_100g', 'nucleotides_100g', 'carnitine_100g', '-arachidonic-acid_100g', '-maltodextrins_100g', 'beta-glucan_100g', '-oleic-acid_100g', '-gondoic-acid_100g', 'allergens_en', 'serum-proteins_100g', 'choline_100g', 'omega-9-fat_100g', 'no_nutriments', 'inositol_100g', '-dihomo-gamma-linolenic-acid_100g', '-behenic-acid_100g', 'casein_100g', '-arachidic-acid_100g', '-gamma-linolenic-acid_100g', 'molybdenum_100g', 'chromium_100g', 'beta-carotene_100g', '-glucose_100g', 'taurine_100g', '-fructose_100g', '-eicosapentaenoic-acid_100g', 'silica_100g', 'ph_100g', '-sucrose_100g', '-docosahexaenoic-acid_100g', 'fluoride_100g', 'caffeine_100g', '-linoleic-acid_100g', 'bicarbonate_100g', '-alpha-linolenic-acid_100g', 'omega-6-fat_100g', 'collagen-meat-protein-ratio_100g', 'carbon-footprint_100g', 'starch_100g', '-lactose_100g', 'chloride_100g', 'biotin_100g', 'iodine_100g', 'polyols_100g', 'energy-from-fat_100g', 'vitamin-k_100g', 'omega-3-fat_100g', 'selenium_100g', 'manganese_100g', 'vitamin-e_100g', 'copper_100g', 'pantothenic-acid_100g', 'folates_100g', 'fruits-vegetables-nuts_100g', 'cocoa_100g', 'zinc_100g', 'vitamin-b9_100g', 'vitamin-b12_100g', 'phosphorus_100g']\n"
     ]
    }
   ],
   "source": [
    "threshold = 99\n",
    "cols_with_more_than_threshold = [col for col, percentage in amount_of_nan.iteritems() if percentage > threshold]\n",
    "print(cols_with_more_than_threshold)"
   ]
  },
  {
   "cell_type": "markdown",
   "metadata": {},
   "source": [
    "All these columns will be dropped."
   ]
  },
  {
   "cell_type": "code",
   "execution_count": 5,
   "metadata": {
    "scrolled": false
   },
   "outputs": [
    {
     "data": {
      "text/plain": [
       "(692133, 90)"
      ]
     },
     "execution_count": 5,
     "metadata": {},
     "output_type": "execute_result"
    }
   ],
   "source": [
    "df = df.drop(cols_with_more_than_threshold, axis=1)\n",
    "df.shape"
   ]
  },
  {
   "cell_type": "markdown",
   "metadata": {},
   "source": [
    "## Dropping uninteresting columns\n",
    "\n",
    "Open Food Facts offers a large array of columns per product. Some are not interesting considering the subject of our analysis. As such, we will drop the following columns:\n",
    "* `emb_codes` and `emb_codes_tags` refer to packaging numbers in France.\n",
    "* `pnns_groups_1` and `pnns_groups_2` only include data in French related to the 'PNNS' dietary guidelines.\n",
    "* `states`, `states_tags`and `states_en` refer to the state of the entry in the database (tags that still need to be completed).\n",
    "* `image_url`, `image_small_url`, `image_ingredients_url`, `image_ingredients_small_url`, `image_nutrition_url` and `image_nutrition_small_url` give urls to pictures of the food. We will not use this.\n"
   ]
  },
  {
   "cell_type": "code",
   "execution_count": 6,
   "metadata": {},
   "outputs": [
    {
     "data": {
      "text/plain": [
       "(692133, 77)"
      ]
     },
     "execution_count": 6,
     "metadata": {},
     "output_type": "execute_result"
    }
   ],
   "source": [
    "uninteresting_columns_to_drop = ['emb_codes', 'emb_codes_tags', 'pnns_groups_1', 'pnns_groups_2', 'states', 'states_tags', 'states_en', 'image_url',\\\n",
    "                   'image_small_url', 'image_ingredients_url', 'image_ingredients_small_url',\\\n",
    "                   'image_nutrition_url', 'image_nutrition_small_url']\n",
    "\n",
    "df = df.drop(uninteresting_columns_to_drop, axis = 1)\n",
    "df.shape"
   ]
  },
  {
   "cell_type": "markdown",
   "metadata": {},
   "source": [
    "## Dealing with date types"
   ]
  },
  {
   "cell_type": "markdown",
   "metadata": {},
   "source": [
    "The `created_t`, `created_datetime`, `last_modified_t` and `last_modified_datetime` columns deal with dates. We will drop `created_t` and `last_modified_t` as they contain redundant information already in the other two columns.\n",
    "\n",
    "We will parse the dates in `created_datetime` and `last_modified_datetime` into the datetime type for esier use in our analysis."
   ]
  },
  {
   "cell_type": "code",
   "execution_count": 7,
   "metadata": {},
   "outputs": [
    {
     "data": {
      "text/plain": [
       "(692133, 75)"
      ]
     },
     "execution_count": 7,
     "metadata": {},
     "output_type": "execute_result"
    }
   ],
   "source": [
    "df['created_datetime'] = pd.to_datetime(df['created_datetime'], errors = 'coerce', infer_datetime_format = True)\n",
    "df['last_modified_datetime'] = pd.to_datetime(df['last_modified_datetime'], errors = 'coerce', infer_datetime_format = True)\n",
    "\n",
    "df = df.drop(['created_t', 'last_modified_t'], axis=1)\n",
    "df.shape"
   ]
  },
  {
   "cell_type": "markdown",
   "metadata": {},
   "source": [
    "## Removing duplicate columns"
   ]
  },
  {
   "cell_type": "markdown",
   "metadata": {},
   "source": [
    "Even after all this cleaning, looking at the column names, it seems that a lot of them refer to the same thing. We will check for redundancy among similar column names and drop unnecessary values.\n",
    "\n",
    "We explore the content of the following groups of columns that seem to have redundant values:\n",
    "* `categories`, `categories_tags` and `categories_en` are all related to the kind of food the product belongs to.\n",
    "* `countries`, `countries_tags` and `countries_en` refer to the country of origin.\n",
    "* `packaging` and `packaging_tags` give info about the type of packaging.\n",
    "* `brands` and `brands_tags` contain the brand of the product.\n",
    "* `origins` and `origins_tags`\n",
    "* `manufacturing_places` and `manufacturing_places_tags`\n",
    "* `labels`, `labels_tags` and `labels_en`\n",
    "* `traces`, `traces_tags` and `traces_en`\n",
    "* `serving_size` and `serving_quantity`\n",
    "* `additives`, `additives_tags` and `additives_en`\n",
    "* `main_category` and `main_category_en`\n",
    "\n",
    "For each of these groups of column we will check that they indeed contain redundant information and remove all columns that are then useless."
   ]
  },
  {
   "cell_type": "code",
   "execution_count": 11,
   "metadata": {},
   "outputs": [],
   "source": [
    "# This function will print the ranking of the given columns depending on their proportion of nan values\n",
    "# It also return a few values where none of the columns are nan to check for redundant data.\n",
    "def analyze_columns(list_of_columns):\n",
    "    print(amount_of_nan[list_of_columns].sort_values(ascending = False))\n",
    "    return df[list_of_columns].dropna().reset_index(drop = 'True').head()"
   ]
  },
  {
   "cell_type": "markdown",
   "metadata": {},
   "source": [
    "### Category columns"
   ]
  },
  {
   "cell_type": "code",
   "execution_count": 9,
   "metadata": {},
   "outputs": [
    {
     "name": "stdout",
     "output_type": "stream",
     "text": [
      "categories_en      74.241511\n",
      "categories_tags    74.236599\n",
      "categories         74.236455\n",
      "dtype: float64\n"
     ]
    },
    {
     "data": {
      "text/html": [
       "<div>\n",
       "<style scoped>\n",
       "    .dataframe tbody tr th:only-of-type {\n",
       "        vertical-align: middle;\n",
       "    }\n",
       "\n",
       "    .dataframe tbody tr th {\n",
       "        vertical-align: top;\n",
       "    }\n",
       "\n",
       "    .dataframe thead th {\n",
       "        text-align: right;\n",
       "    }\n",
       "</style>\n",
       "<table border=\"1\" class=\"dataframe\">\n",
       "  <thead>\n",
       "    <tr style=\"text-align: right;\">\n",
       "      <th></th>\n",
       "      <th>categories</th>\n",
       "      <th>categories_tags</th>\n",
       "      <th>categories_en</th>\n",
       "    </tr>\n",
       "  </thead>\n",
       "  <tbody>\n",
       "    <tr>\n",
       "      <th>0</th>\n",
       "      <td>Tartes à la noix de coco</td>\n",
       "      <td>en:pies,en:sweet-pies,en:coconut-pies</td>\n",
       "      <td>Pies,Sweet pies,Coconut pies</td>\n",
       "    </tr>\n",
       "    <tr>\n",
       "      <th>1</th>\n",
       "      <td>Compotes de poire</td>\n",
       "      <td>en:plant-based-foods-and-beverages,en:plant-ba...</td>\n",
       "      <td>Plant-based foods and beverages,Plant-based fo...</td>\n",
       "    </tr>\n",
       "    <tr>\n",
       "      <th>2</th>\n",
       "      <td>Baguettes</td>\n",
       "      <td>en:plant-based-foods-and-beverages,en:plant-ba...</td>\n",
       "      <td>Plant-based foods and beverages,Plant-based fo...</td>\n",
       "    </tr>\n",
       "    <tr>\n",
       "      <th>3</th>\n",
       "      <td>Pavés de saumon,Saumons fumés,Pavés de saumon ...</td>\n",
       "      <td>en:seafood,en:fishes,en:salmons,en:smoked-fish...</td>\n",
       "      <td>Seafood,Fishes,Salmons,Smoked fishes,Smoked sa...</td>\n",
       "    </tr>\n",
       "    <tr>\n",
       "      <th>4</th>\n",
       "      <td>Compléments alimentaires</td>\n",
       "      <td>en:dietary-supplements</td>\n",
       "      <td>Dietary supplements</td>\n",
       "    </tr>\n",
       "  </tbody>\n",
       "</table>\n",
       "</div>"
      ],
      "text/plain": [
       "                                          categories  \\\n",
       "0                           Tartes à la noix de coco   \n",
       "1                                  Compotes de poire   \n",
       "2                                          Baguettes   \n",
       "3  Pavés de saumon,Saumons fumés,Pavés de saumon ...   \n",
       "4                           Compléments alimentaires   \n",
       "\n",
       "                                     categories_tags  \\\n",
       "0              en:pies,en:sweet-pies,en:coconut-pies   \n",
       "1  en:plant-based-foods-and-beverages,en:plant-ba...   \n",
       "2  en:plant-based-foods-and-beverages,en:plant-ba...   \n",
       "3  en:seafood,en:fishes,en:salmons,en:smoked-fish...   \n",
       "4                             en:dietary-supplements   \n",
       "\n",
       "                                       categories_en  \n",
       "0                       Pies,Sweet pies,Coconut pies  \n",
       "1  Plant-based foods and beverages,Plant-based fo...  \n",
       "2  Plant-based foods and beverages,Plant-based fo...  \n",
       "3  Seafood,Fishes,Salmons,Smoked fishes,Smoked sa...  \n",
       "4                                Dietary supplements  "
      ]
     },
     "execution_count": 9,
     "metadata": {},
     "output_type": "execute_result"
    }
   ],
   "source": [
    "analyze_columns(['categories', 'categories_tags', 'categories_en'])"
   ]
  },
  {
   "cell_type": "markdown",
   "metadata": {},
   "source": [
    "Values among these 3 columns seem largely redundant. We will only keep the `categories_tags` column for its english formatting and convert it to a list of strings for easier analysis later."
   ]
  },
  {
   "cell_type": "code",
   "execution_count": 10,
   "metadata": {},
   "outputs": [],
   "source": [
    "redundant_columns_to_drop = ['categories_en', 'categories']\n",
    "columns_to_convert = ['categories_tags']"
   ]
  },
  {
   "cell_type": "markdown",
   "metadata": {},
   "source": [
    "### Country columns"
   ]
  },
  {
   "cell_type": "code",
   "execution_count": 12,
   "metadata": {},
   "outputs": [
    {
     "name": "stdout",
     "output_type": "stream",
     "text": [
      "countries_en      0.087266\n",
      "countries_tags    0.087266\n",
      "countries         0.087266\n",
      "dtype: float64\n"
     ]
    },
    {
     "data": {
      "text/html": [
       "<div>\n",
       "<style scoped>\n",
       "    .dataframe tbody tr th:only-of-type {\n",
       "        vertical-align: middle;\n",
       "    }\n",
       "\n",
       "    .dataframe tbody tr th {\n",
       "        vertical-align: top;\n",
       "    }\n",
       "\n",
       "    .dataframe thead th {\n",
       "        text-align: right;\n",
       "    }\n",
       "</style>\n",
       "<table border=\"1\" class=\"dataframe\">\n",
       "  <thead>\n",
       "    <tr style=\"text-align: right;\">\n",
       "      <th></th>\n",
       "      <th>countries</th>\n",
       "      <th>countries_tags</th>\n",
       "      <th>countries_en</th>\n",
       "    </tr>\n",
       "  </thead>\n",
       "  <tbody>\n",
       "    <tr>\n",
       "      <th>0</th>\n",
       "      <td>en:france</td>\n",
       "      <td>en:france</td>\n",
       "      <td>France</td>\n",
       "    </tr>\n",
       "    <tr>\n",
       "      <th>1</th>\n",
       "      <td>en:FR</td>\n",
       "      <td>en:france</td>\n",
       "      <td>France</td>\n",
       "    </tr>\n",
       "    <tr>\n",
       "      <th>2</th>\n",
       "      <td>en:france</td>\n",
       "      <td>en:france</td>\n",
       "      <td>France</td>\n",
       "    </tr>\n",
       "    <tr>\n",
       "      <th>3</th>\n",
       "      <td>en:france</td>\n",
       "      <td>en:france</td>\n",
       "      <td>France</td>\n",
       "    </tr>\n",
       "    <tr>\n",
       "      <th>4</th>\n",
       "      <td>en:france</td>\n",
       "      <td>en:france</td>\n",
       "      <td>France</td>\n",
       "    </tr>\n",
       "  </tbody>\n",
       "</table>\n",
       "</div>"
      ],
      "text/plain": [
       "   countries countries_tags countries_en\n",
       "0  en:france      en:france       France\n",
       "1      en:FR      en:france       France\n",
       "2  en:france      en:france       France\n",
       "3  en:france      en:france       France\n",
       "4  en:france      en:france       France"
      ]
     },
     "execution_count": 12,
     "metadata": {},
     "output_type": "execute_result"
    }
   ],
   "source": [
    "analyze_columns(['countries', 'countries_tags', 'countries_en'])"
   ]
  },
  {
   "cell_type": "markdown",
   "metadata": {},
   "source": [
    "These columns all cover the same amount of products. We will then only keep `countries_en` for its clearer formatting."
   ]
  },
  {
   "cell_type": "code",
   "execution_count": 13,
   "metadata": {},
   "outputs": [],
   "source": [
    "redundant_columns_to_drop += ['countries', 'countries_tags']"
   ]
  },
  {
   "cell_type": "markdown",
   "metadata": {},
   "source": [
    "### Packaging columns"
   ]
  },
  {
   "cell_type": "code",
   "execution_count": 14,
   "metadata": {},
   "outputs": [
    {
     "name": "stdout",
     "output_type": "stream",
     "text": [
      "packaging_tags    79.893460\n",
      "packaging         79.893026\n",
      "dtype: float64\n"
     ]
    },
    {
     "data": {
      "text/html": [
       "<div>\n",
       "<style scoped>\n",
       "    .dataframe tbody tr th:only-of-type {\n",
       "        vertical-align: middle;\n",
       "    }\n",
       "\n",
       "    .dataframe tbody tr th {\n",
       "        vertical-align: top;\n",
       "    }\n",
       "\n",
       "    .dataframe thead th {\n",
       "        text-align: right;\n",
       "    }\n",
       "</style>\n",
       "<table border=\"1\" class=\"dataframe\">\n",
       "  <thead>\n",
       "    <tr style=\"text-align: right;\">\n",
       "      <th></th>\n",
       "      <th>packaging</th>\n",
       "      <th>packaging_tags</th>\n",
       "    </tr>\n",
       "  </thead>\n",
       "  <tbody>\n",
       "    <tr>\n",
       "      <th>0</th>\n",
       "      <td>barquette,plastique</td>\n",
       "      <td>barquette,plastique</td>\n",
       "    </tr>\n",
       "    <tr>\n",
       "      <th>1</th>\n",
       "      <td>bocal,plastique</td>\n",
       "      <td>bocal,plastique</td>\n",
       "    </tr>\n",
       "    <tr>\n",
       "      <th>2</th>\n",
       "      <td>plastique</td>\n",
       "      <td>plastique</td>\n",
       "    </tr>\n",
       "    <tr>\n",
       "      <th>3</th>\n",
       "      <td>carton,plastique</td>\n",
       "      <td>carton,plastique</td>\n",
       "    </tr>\n",
       "    <tr>\n",
       "      <th>4</th>\n",
       "      <td>plastique,carton</td>\n",
       "      <td>plastique,carton</td>\n",
       "    </tr>\n",
       "  </tbody>\n",
       "</table>\n",
       "</div>"
      ],
      "text/plain": [
       "             packaging       packaging_tags\n",
       "0  barquette,plastique  barquette,plastique\n",
       "1      bocal,plastique      bocal,plastique\n",
       "2            plastique            plastique\n",
       "3     carton,plastique     carton,plastique\n",
       "4     plastique,carton     plastique,carton"
      ]
     },
     "execution_count": 14,
     "metadata": {},
     "output_type": "execute_result"
    }
   ],
   "source": [
    "analyze_columns(['packaging', 'packaging_tags'])"
   ]
  },
  {
   "cell_type": "markdown",
   "metadata": {},
   "source": [
    "We keep `packaging` and convert it."
   ]
  },
  {
   "cell_type": "code",
   "execution_count": 15,
   "metadata": {},
   "outputs": [],
   "source": [
    "redundant_columns_to_drop += ['packaging_tags']\n",
    "columns_to_convert += ['packaging']"
   ]
  },
  {
   "cell_type": "markdown",
   "metadata": {},
   "source": [
    "### Brand columns"
   ]
  },
  {
   "cell_type": "code",
   "execution_count": 16,
   "metadata": {},
   "outputs": [
    {
     "name": "stdout",
     "output_type": "stream",
     "text": [
      "brands_tags    33.107799\n",
      "brands         33.102886\n",
      "dtype: float64\n"
     ]
    },
    {
     "data": {
      "text/html": [
       "<div>\n",
       "<style scoped>\n",
       "    .dataframe tbody tr th:only-of-type {\n",
       "        vertical-align: middle;\n",
       "    }\n",
       "\n",
       "    .dataframe tbody tr th {\n",
       "        vertical-align: top;\n",
       "    }\n",
       "\n",
       "    .dataframe thead th {\n",
       "        text-align: right;\n",
       "    }\n",
       "</style>\n",
       "<table border=\"1\" class=\"dataframe\">\n",
       "  <thead>\n",
       "    <tr style=\"text-align: right;\">\n",
       "      <th></th>\n",
       "      <th>brands</th>\n",
       "      <th>brands_tags</th>\n",
       "    </tr>\n",
       "  </thead>\n",
       "  <tbody>\n",
       "    <tr>\n",
       "      <th>0</th>\n",
       "      <td>CROUS</td>\n",
       "      <td>crous</td>\n",
       "    </tr>\n",
       "    <tr>\n",
       "      <th>1</th>\n",
       "      <td>Crous Resto',Crous</td>\n",
       "      <td>crous-resto,crous</td>\n",
       "    </tr>\n",
       "    <tr>\n",
       "      <th>2</th>\n",
       "      <td>Ferme De La Frémondière</td>\n",
       "      <td>ferme-de-la-fremondiere</td>\n",
       "    </tr>\n",
       "    <tr>\n",
       "      <th>3</th>\n",
       "      <td>Crous</td>\n",
       "      <td>crous</td>\n",
       "    </tr>\n",
       "    <tr>\n",
       "      <th>4</th>\n",
       "      <td>Crous resto</td>\n",
       "      <td>crous-resto</td>\n",
       "    </tr>\n",
       "  </tbody>\n",
       "</table>\n",
       "</div>"
      ],
      "text/plain": [
       "                    brands              brands_tags\n",
       "0                    CROUS                    crous\n",
       "1       Crous Resto',Crous        crous-resto,crous\n",
       "2  Ferme De La Frémondière  ferme-de-la-fremondiere\n",
       "3                    Crous                    crous\n",
       "4              Crous resto              crous-resto"
      ]
     },
     "execution_count": 16,
     "metadata": {},
     "output_type": "execute_result"
    }
   ],
   "source": [
    "analyze_columns(['brands', 'brands_tags'])"
   ]
  },
  {
   "cell_type": "markdown",
   "metadata": {},
   "source": [
    "We keep `brands_tags` as it is cleaner than `brands` for a similar number of `nan` values."
   ]
  },
  {
   "cell_type": "code",
   "execution_count": 17,
   "metadata": {},
   "outputs": [],
   "source": [
    "redundant_columns_to_drop += ['brands']\n",
    "columns_to_convert += ['brands_tags']"
   ]
  },
  {
   "cell_type": "markdown",
   "metadata": {},
   "source": [
    "### Origin columns"
   ]
  },
  {
   "cell_type": "code",
   "execution_count": 18,
   "metadata": {},
   "outputs": [
    {
     "name": "stdout",
     "output_type": "stream",
     "text": [
      "origins_tags    93.971823\n",
      "origins         93.964021\n",
      "dtype: float64\n"
     ]
    },
    {
     "data": {
      "text/html": [
       "<div>\n",
       "<style scoped>\n",
       "    .dataframe tbody tr th:only-of-type {\n",
       "        vertical-align: middle;\n",
       "    }\n",
       "\n",
       "    .dataframe tbody tr th {\n",
       "        vertical-align: top;\n",
       "    }\n",
       "\n",
       "    .dataframe thead th {\n",
       "        text-align: right;\n",
       "    }\n",
       "</style>\n",
       "<table border=\"1\" class=\"dataframe\">\n",
       "  <thead>\n",
       "    <tr style=\"text-align: right;\">\n",
       "      <th></th>\n",
       "      <th>origins</th>\n",
       "      <th>origins_tags</th>\n",
       "    </tr>\n",
       "  </thead>\n",
       "  <tbody>\n",
       "    <tr>\n",
       "      <th>0</th>\n",
       "      <td>France</td>\n",
       "      <td>france</td>\n",
       "    </tr>\n",
       "    <tr>\n",
       "      <th>1</th>\n",
       "      <td>Québec</td>\n",
       "      <td>quebec</td>\n",
       "    </tr>\n",
       "    <tr>\n",
       "      <th>2</th>\n",
       "      <td>Québec</td>\n",
       "      <td>quebec</td>\n",
       "    </tr>\n",
       "    <tr>\n",
       "      <th>3</th>\n",
       "      <td>France</td>\n",
       "      <td>france</td>\n",
       "    </tr>\n",
       "    <tr>\n",
       "      <th>4</th>\n",
       "      <td>Québec</td>\n",
       "      <td>quebec</td>\n",
       "    </tr>\n",
       "  </tbody>\n",
       "</table>\n",
       "</div>"
      ],
      "text/plain": [
       "  origins origins_tags\n",
       "0  France       france\n",
       "1  Québec       quebec\n",
       "2  Québec       quebec\n",
       "3  France       france\n",
       "4  Québec       quebec"
      ]
     },
     "execution_count": 18,
     "metadata": {},
     "output_type": "execute_result"
    }
   ],
   "source": [
    "analyze_columns(['origins', 'origins_tags'])"
   ]
  },
  {
   "cell_type": "markdown",
   "metadata": {},
   "source": [
    "We keep `origins`."
   ]
  },
  {
   "cell_type": "code",
   "execution_count": 19,
   "metadata": {},
   "outputs": [],
   "source": [
    "redundant_columns_to_drop += ['origins_tags']"
   ]
  },
  {
   "cell_type": "markdown",
   "metadata": {},
   "source": [
    "### Manufacturing columns"
   ]
  },
  {
   "cell_type": "code",
   "execution_count": 20,
   "metadata": {},
   "outputs": [
    {
     "name": "stdout",
     "output_type": "stream",
     "text": [
      "manufacturing_places_tags    90.382918\n",
      "manufacturing_places         90.380028\n",
      "dtype: float64\n"
     ]
    },
    {
     "data": {
      "text/html": [
       "<div>\n",
       "<style scoped>\n",
       "    .dataframe tbody tr th:only-of-type {\n",
       "        vertical-align: middle;\n",
       "    }\n",
       "\n",
       "    .dataframe tbody tr th {\n",
       "        vertical-align: top;\n",
       "    }\n",
       "\n",
       "    .dataframe thead th {\n",
       "        text-align: right;\n",
       "    }\n",
       "</style>\n",
       "<table border=\"1\" class=\"dataframe\">\n",
       "  <thead>\n",
       "    <tr style=\"text-align: right;\">\n",
       "      <th></th>\n",
       "      <th>manufacturing_places</th>\n",
       "      <th>manufacturing_places_tags</th>\n",
       "    </tr>\n",
       "  </thead>\n",
       "  <tbody>\n",
       "    <tr>\n",
       "      <th>0</th>\n",
       "      <td>France</td>\n",
       "      <td>france</td>\n",
       "    </tr>\n",
       "    <tr>\n",
       "      <th>1</th>\n",
       "      <td>France</td>\n",
       "      <td>france</td>\n",
       "    </tr>\n",
       "    <tr>\n",
       "      <th>2</th>\n",
       "      <td>Brossard Québec</td>\n",
       "      <td>brossard-quebec</td>\n",
       "    </tr>\n",
       "    <tr>\n",
       "      <th>3</th>\n",
       "      <td>Brossard Québec</td>\n",
       "      <td>brossard-quebec</td>\n",
       "    </tr>\n",
       "    <tr>\n",
       "      <th>4</th>\n",
       "      <td>United Kingdom</td>\n",
       "      <td>united-kingdom</td>\n",
       "    </tr>\n",
       "  </tbody>\n",
       "</table>\n",
       "</div>"
      ],
      "text/plain": [
       "  manufacturing_places manufacturing_places_tags\n",
       "0               France                    france\n",
       "1               France                    france\n",
       "2      Brossard Québec           brossard-quebec\n",
       "3      Brossard Québec           brossard-quebec\n",
       "4       United Kingdom            united-kingdom"
      ]
     },
     "execution_count": 20,
     "metadata": {},
     "output_type": "execute_result"
    }
   ],
   "source": [
    "analyze_columns(['manufacturing_places', 'manufacturing_places_tags'])"
   ]
  },
  {
   "cell_type": "markdown",
   "metadata": {},
   "source": [
    "We keep only `manufacturing_places`."
   ]
  },
  {
   "cell_type": "code",
   "execution_count": 21,
   "metadata": {},
   "outputs": [],
   "source": [
    "redundant_columns_to_drop += ['manufacturing_places_tags']"
   ]
  },
  {
   "cell_type": "markdown",
   "metadata": {},
   "source": [
    "### Label columns"
   ]
  },
  {
   "cell_type": "code",
   "execution_count": 22,
   "metadata": {},
   "outputs": [
    {
     "name": "stdout",
     "output_type": "stream",
     "text": [
      "labels         85.308893\n",
      "labels_en      85.304414\n",
      "labels_tags    85.304414\n",
      "dtype: float64\n"
     ]
    },
    {
     "data": {
      "text/html": [
       "<div>\n",
       "<style scoped>\n",
       "    .dataframe tbody tr th:only-of-type {\n",
       "        vertical-align: middle;\n",
       "    }\n",
       "\n",
       "    .dataframe tbody tr th {\n",
       "        vertical-align: top;\n",
       "    }\n",
       "\n",
       "    .dataframe thead th {\n",
       "        text-align: right;\n",
       "    }\n",
       "</style>\n",
       "<table border=\"1\" class=\"dataframe\">\n",
       "  <thead>\n",
       "    <tr style=\"text-align: right;\">\n",
       "      <th></th>\n",
       "      <th>labels</th>\n",
       "      <th>labels_tags</th>\n",
       "      <th>labels_en</th>\n",
       "    </tr>\n",
       "  </thead>\n",
       "  <tbody>\n",
       "    <tr>\n",
       "      <th>0</th>\n",
       "      <td>Fabriqué en France</td>\n",
       "      <td>en:made-in-france</td>\n",
       "      <td>Made in France</td>\n",
       "    </tr>\n",
       "    <tr>\n",
       "      <th>1</th>\n",
       "      <td>Viande Française,Fabriqué en France</td>\n",
       "      <td>fr:viande-francaise,en:made-in-france</td>\n",
       "      <td>fr:Viande Française,Made in France</td>\n",
       "    </tr>\n",
       "    <tr>\n",
       "      <th>2</th>\n",
       "      <td>Contient des OGM</td>\n",
       "      <td>en:contains-gmos</td>\n",
       "      <td>Contains GMOs</td>\n",
       "    </tr>\n",
       "    <tr>\n",
       "      <th>3</th>\n",
       "      <td>AB</td>\n",
       "      <td>en:organic,en:eu-organic,fr:ab-agriculture-bio...</td>\n",
       "      <td>Organic,EU Organic,fr:AB Agriculture Biologique</td>\n",
       "    </tr>\n",
       "    <tr>\n",
       "      <th>4</th>\n",
       "      <td>Kascher,Contient des OGM</td>\n",
       "      <td>en:kosher,en:contains-gmos</td>\n",
       "      <td>Kosher,Contains GMOs</td>\n",
       "    </tr>\n",
       "  </tbody>\n",
       "</table>\n",
       "</div>"
      ],
      "text/plain": [
       "                                labels  \\\n",
       "0                   Fabriqué en France   \n",
       "1  Viande Française,Fabriqué en France   \n",
       "2                     Contient des OGM   \n",
       "3                                   AB   \n",
       "4             Kascher,Contient des OGM   \n",
       "\n",
       "                                         labels_tags  \\\n",
       "0                                  en:made-in-france   \n",
       "1              fr:viande-francaise,en:made-in-france   \n",
       "2                                   en:contains-gmos   \n",
       "3  en:organic,en:eu-organic,fr:ab-agriculture-bio...   \n",
       "4                         en:kosher,en:contains-gmos   \n",
       "\n",
       "                                         labels_en  \n",
       "0                                   Made in France  \n",
       "1               fr:Viande Française,Made in France  \n",
       "2                                    Contains GMOs  \n",
       "3  Organic,EU Organic,fr:AB Agriculture Biologique  \n",
       "4                             Kosher,Contains GMOs  "
      ]
     },
     "execution_count": 22,
     "metadata": {},
     "output_type": "execute_result"
    }
   ],
   "source": [
    "analyze_columns(['labels', 'labels_tags', 'labels_en'])"
   ]
  },
  {
   "cell_type": "markdown",
   "metadata": {},
   "source": [
    "`labels_tags` and `labels_en` cover the same rows, we will keep `labels_en` for its formatting and convert it. `labels` is unfortunately in French."
   ]
  },
  {
   "cell_type": "code",
   "execution_count": 23,
   "metadata": {},
   "outputs": [],
   "source": [
    "redundant_columns_to_drop += ['labels', 'labels_tags']\n",
    "columns_to_convert += ['labels_en']"
   ]
  },
  {
   "cell_type": "markdown",
   "metadata": {},
   "source": [
    "### Traces columns"
   ]
  },
  {
   "cell_type": "code",
   "execution_count": 24,
   "metadata": {},
   "outputs": [
    {
     "name": "stdout",
     "output_type": "stream",
     "text": [
      "traces         93.236271\n",
      "traces_en      91.468258\n",
      "traces_tags    91.468258\n",
      "dtype: float64\n"
     ]
    },
    {
     "data": {
      "text/html": [
       "<div>\n",
       "<style scoped>\n",
       "    .dataframe tbody tr th:only-of-type {\n",
       "        vertical-align: middle;\n",
       "    }\n",
       "\n",
       "    .dataframe tbody tr th {\n",
       "        vertical-align: top;\n",
       "    }\n",
       "\n",
       "    .dataframe thead th {\n",
       "        text-align: right;\n",
       "    }\n",
       "</style>\n",
       "<table border=\"1\" class=\"dataframe\">\n",
       "  <thead>\n",
       "    <tr style=\"text-align: right;\">\n",
       "      <th></th>\n",
       "      <th>traces</th>\n",
       "      <th>traces_tags</th>\n",
       "      <th>traces_en</th>\n",
       "    </tr>\n",
       "  </thead>\n",
       "  <tbody>\n",
       "    <tr>\n",
       "      <th>0</th>\n",
       "      <td>milk, egg,</td>\n",
       "      <td>en:eggs,en:milk</td>\n",
       "      <td>Eggs,Milk</td>\n",
       "    </tr>\n",
       "    <tr>\n",
       "      <th>1</th>\n",
       "      <td>nuts, milk, soya, wheatflour, gluten, oatmeal,...</td>\n",
       "      <td>en:eggs,en:gluten,en:milk,en:nuts,en:soybeans,...</td>\n",
       "      <td>Eggs,Gluten,Milk,Nuts,Soybeans,Oatmeal,Wheatflour</td>\n",
       "    </tr>\n",
       "    <tr>\n",
       "      <th>2</th>\n",
       "      <td>CONTIENT : OEUF. LAIT. ANCHOIS. SOYA. BLE. SEI...</td>\n",
       "      <td>fr:contient-oeuf-lait-anchois-soya-ble-seigle-...</td>\n",
       "      <td>fr:contient-oeuf-lait-anchois-soya-ble-seigle-...</td>\n",
       "    </tr>\n",
       "    <tr>\n",
       "      <th>3</th>\n",
       "      <td>Soja,Anhydride sulfureux et sulfites,Contient ...</td>\n",
       "      <td>en:soybeans,en:sulphur-dioxide-and-sulphites,f...</td>\n",
       "      <td>Soybeans,Sulphur dioxide and sulphites,fr:cont...</td>\n",
       "    </tr>\n",
       "    <tr>\n",
       "      <th>4</th>\n",
       "      <td>Blé,Orge,Peut contenir:  Noix variés Soya Lait...</td>\n",
       "      <td>en:gluten,fr:peut-contenir-noix-varies-soya-la...</td>\n",
       "      <td>Gluten,fr:peut-contenir-noix-varies-soya-lait-...</td>\n",
       "    </tr>\n",
       "  </tbody>\n",
       "</table>\n",
       "</div>"
      ],
      "text/plain": [
       "                                              traces  \\\n",
       "0                                        milk, egg,    \n",
       "1  nuts, milk, soya, wheatflour, gluten, oatmeal,...   \n",
       "2  CONTIENT : OEUF. LAIT. ANCHOIS. SOYA. BLE. SEI...   \n",
       "3  Soja,Anhydride sulfureux et sulfites,Contient ...   \n",
       "4  Blé,Orge,Peut contenir:  Noix variés Soya Lait...   \n",
       "\n",
       "                                         traces_tags  \\\n",
       "0                                    en:eggs,en:milk   \n",
       "1  en:eggs,en:gluten,en:milk,en:nuts,en:soybeans,...   \n",
       "2  fr:contient-oeuf-lait-anchois-soya-ble-seigle-...   \n",
       "3  en:soybeans,en:sulphur-dioxide-and-sulphites,f...   \n",
       "4  en:gluten,fr:peut-contenir-noix-varies-soya-la...   \n",
       "\n",
       "                                           traces_en  \n",
       "0                                          Eggs,Milk  \n",
       "1  Eggs,Gluten,Milk,Nuts,Soybeans,Oatmeal,Wheatflour  \n",
       "2  fr:contient-oeuf-lait-anchois-soya-ble-seigle-...  \n",
       "3  Soybeans,Sulphur dioxide and sulphites,fr:cont...  \n",
       "4  Gluten,fr:peut-contenir-noix-varies-soya-lait-...  "
      ]
     },
     "execution_count": 24,
     "metadata": {},
     "output_type": "execute_result"
    }
   ],
   "source": [
    "analyze_columns(['traces', 'traces_tags', 'traces_en'])"
   ]
  },
  {
   "cell_type": "markdown",
   "metadata": {},
   "source": [
    "`traces_tags` is better formatted and contains less `nan` values."
   ]
  },
  {
   "cell_type": "code",
   "execution_count": 25,
   "metadata": {},
   "outputs": [],
   "source": [
    "redundant_columns_to_drop += ['traces', 'traces_en']\n",
    "columns_to_convert += ['traces_tags']"
   ]
  },
  {
   "cell_type": "markdown",
   "metadata": {},
   "source": [
    "### Serving size columns"
   ]
  },
  {
   "cell_type": "code",
   "execution_count": 26,
   "metadata": {},
   "outputs": [
    {
     "name": "stdout",
     "output_type": "stream",
     "text": [
      "serving_size        65.393790\n",
      "serving_quantity     2.652091\n",
      "dtype: float64\n"
     ]
    },
    {
     "data": {
      "text/html": [
       "<div>\n",
       "<style scoped>\n",
       "    .dataframe tbody tr th:only-of-type {\n",
       "        vertical-align: middle;\n",
       "    }\n",
       "\n",
       "    .dataframe tbody tr th {\n",
       "        vertical-align: top;\n",
       "    }\n",
       "\n",
       "    .dataframe thead th {\n",
       "        text-align: right;\n",
       "    }\n",
       "</style>\n",
       "<table border=\"1\" class=\"dataframe\">\n",
       "  <thead>\n",
       "    <tr style=\"text-align: right;\">\n",
       "      <th></th>\n",
       "      <th>serving_size</th>\n",
       "      <th>serving_quantity</th>\n",
       "    </tr>\n",
       "  </thead>\n",
       "  <tbody>\n",
       "    <tr>\n",
       "      <th>0</th>\n",
       "      <td>28 g (1 ONZ)</td>\n",
       "      <td>28</td>\n",
       "    </tr>\n",
       "    <tr>\n",
       "      <th>1</th>\n",
       "      <td>28 g (0.25 cup)</td>\n",
       "      <td>28</td>\n",
       "    </tr>\n",
       "    <tr>\n",
       "      <th>2</th>\n",
       "      <td>28 g (0.25 cup)</td>\n",
       "      <td>28</td>\n",
       "    </tr>\n",
       "    <tr>\n",
       "      <th>3</th>\n",
       "      <td>35 g (0.25 cup)</td>\n",
       "      <td>35</td>\n",
       "    </tr>\n",
       "    <tr>\n",
       "      <th>4</th>\n",
       "      <td>52 g (0.5 cup)</td>\n",
       "      <td>52</td>\n",
       "    </tr>\n",
       "  </tbody>\n",
       "</table>\n",
       "</div>"
      ],
      "text/plain": [
       "      serving_size serving_quantity\n",
       "0     28 g (1 ONZ)               28\n",
       "1  28 g (0.25 cup)               28\n",
       "2  28 g (0.25 cup)               28\n",
       "3  35 g (0.25 cup)               35\n",
       "4   52 g (0.5 cup)               52"
      ]
     },
     "execution_count": 26,
     "metadata": {},
     "output_type": "execute_result"
    }
   ],
   "source": [
    "analyze_columns(['serving_size', 'serving_quantity'])"
   ]
  },
  {
   "cell_type": "markdown",
   "metadata": {},
   "source": [
    "Here, clearly `serving_quantity` is the right choice as it has less `nan` values and is formatted more simply."
   ]
  },
  {
   "cell_type": "code",
   "execution_count": 27,
   "metadata": {},
   "outputs": [],
   "source": [
    "redundant_columns_to_drop += ['serving_size']"
   ]
  },
  {
   "cell_type": "markdown",
   "metadata": {},
   "source": [
    "### Additives columns"
   ]
  },
  {
   "cell_type": "code",
   "execution_count": 28,
   "metadata": {},
   "outputs": [
    {
     "name": "stdout",
     "output_type": "stream",
     "text": [
      "additives_en      69.492569\n",
      "additives_tags    69.487801\n",
      "additives         43.253537\n",
      "dtype: float64\n"
     ]
    },
    {
     "data": {
      "text/html": [
       "<div>\n",
       "<style scoped>\n",
       "    .dataframe tbody tr th:only-of-type {\n",
       "        vertical-align: middle;\n",
       "    }\n",
       "\n",
       "    .dataframe tbody tr th {\n",
       "        vertical-align: top;\n",
       "    }\n",
       "\n",
       "    .dataframe thead th {\n",
       "        text-align: right;\n",
       "    }\n",
       "</style>\n",
       "<table border=\"1\" class=\"dataframe\">\n",
       "  <thead>\n",
       "    <tr style=\"text-align: right;\">\n",
       "      <th></th>\n",
       "      <th>additives</th>\n",
       "      <th>additives_tags</th>\n",
       "      <th>additives_en</th>\n",
       "    </tr>\n",
       "  </thead>\n",
       "  <tbody>\n",
       "    <tr>\n",
       "      <th>0</th>\n",
       "      <td>[ antioxydant -&gt; fr:antioxydant  ]  [ erythor...</td>\n",
       "      <td>en:e150,en:e160a,en:e202,en:e316,en:e466</td>\n",
       "      <td>E150 - Caramel,E160a - Alpha-carotene,E202 - P...</td>\n",
       "    </tr>\n",
       "    <tr>\n",
       "      <th>1</th>\n",
       "      <td>[ lait-entier -&gt; fr:lait-entier  ]  [ lait -&gt;...</td>\n",
       "      <td>en:e406</td>\n",
       "      <td>E406 - Agar</td>\n",
       "    </tr>\n",
       "    <tr>\n",
       "      <th>2</th>\n",
       "      <td>[ paln-suedois-42 -&gt; fr:paln-suedois-42  ]  [...</td>\n",
       "      <td>en:e300,en:e503</td>\n",
       "      <td>E300 - Ascorbic acid,E503 - Ammonium carbonates</td>\n",
       "    </tr>\n",
       "    <tr>\n",
       "      <th>3</th>\n",
       "      <td>[ taboule-76 -&gt; fr:taboule-76  ]  [ taboule -...</td>\n",
       "      <td>en:e202</td>\n",
       "      <td>E202 - Potassium sorbate</td>\n",
       "    </tr>\n",
       "    <tr>\n",
       "      <th>4</th>\n",
       "      <td>[ pain-aux-6-cereqles-61 -&gt; fr:pain-aux-6-cer...</td>\n",
       "      <td>en:e250,en:e252</td>\n",
       "      <td>E250 - Sodium nitrite,E252 - Potassium nitrate</td>\n",
       "    </tr>\n",
       "  </tbody>\n",
       "</table>\n",
       "</div>"
      ],
      "text/plain": [
       "                                           additives  \\\n",
       "0   [ antioxydant -> fr:antioxydant  ]  [ erythor...   \n",
       "1   [ lait-entier -> fr:lait-entier  ]  [ lait ->...   \n",
       "2   [ paln-suedois-42 -> fr:paln-suedois-42  ]  [...   \n",
       "3   [ taboule-76 -> fr:taboule-76  ]  [ taboule -...   \n",
       "4   [ pain-aux-6-cereqles-61 -> fr:pain-aux-6-cer...   \n",
       "\n",
       "                             additives_tags  \\\n",
       "0  en:e150,en:e160a,en:e202,en:e316,en:e466   \n",
       "1                                   en:e406   \n",
       "2                           en:e300,en:e503   \n",
       "3                                   en:e202   \n",
       "4                           en:e250,en:e252   \n",
       "\n",
       "                                        additives_en  \n",
       "0  E150 - Caramel,E160a - Alpha-carotene,E202 - P...  \n",
       "1                                        E406 - Agar  \n",
       "2    E300 - Ascorbic acid,E503 - Ammonium carbonates  \n",
       "3                           E202 - Potassium sorbate  \n",
       "4     E250 - Sodium nitrite,E252 - Potassium nitrate  "
      ]
     },
     "execution_count": 28,
     "metadata": {},
     "output_type": "execute_result"
    }
   ],
   "source": [
    "analyze_columns(['additives', 'additives_tags', 'additives_en'])"
   ]
  },
  {
   "cell_type": "markdown",
   "metadata": {},
   "source": [
    "Looking at the proportion of `nan` values, the `additives` column seems to be the best choice. However, its content is not what we expected. We will instead keep `additives_tags`."
   ]
  },
  {
   "cell_type": "code",
   "execution_count": 29,
   "metadata": {},
   "outputs": [],
   "source": [
    "redundant_columns_to_drop += ['additives', 'additives_en']\n",
    "columns_to_convert += ['additives_tags']"
   ]
  },
  {
   "cell_type": "markdown",
   "metadata": {},
   "source": [
    "### Main category columns"
   ]
  },
  {
   "cell_type": "code",
   "execution_count": 30,
   "metadata": {},
   "outputs": [
    {
     "name": "stdout",
     "output_type": "stream",
     "text": [
      "main_category_en    74.252203\n",
      "main_category       74.252203\n",
      "dtype: float64\n"
     ]
    },
    {
     "data": {
      "text/html": [
       "<div>\n",
       "<style scoped>\n",
       "    .dataframe tbody tr th:only-of-type {\n",
       "        vertical-align: middle;\n",
       "    }\n",
       "\n",
       "    .dataframe tbody tr th {\n",
       "        vertical-align: top;\n",
       "    }\n",
       "\n",
       "    .dataframe thead th {\n",
       "        text-align: right;\n",
       "    }\n",
       "</style>\n",
       "<table border=\"1\" class=\"dataframe\">\n",
       "  <thead>\n",
       "    <tr style=\"text-align: right;\">\n",
       "      <th></th>\n",
       "      <th>main_category</th>\n",
       "      <th>main_category_en</th>\n",
       "    </tr>\n",
       "  </thead>\n",
       "  <tbody>\n",
       "    <tr>\n",
       "      <th>0</th>\n",
       "      <td>en:pies</td>\n",
       "      <td>Pies</td>\n",
       "    </tr>\n",
       "    <tr>\n",
       "      <th>1</th>\n",
       "      <td>en:plant-based-foods-and-beverages</td>\n",
       "      <td>Plant-based foods and beverages</td>\n",
       "    </tr>\n",
       "    <tr>\n",
       "      <th>2</th>\n",
       "      <td>en:plant-based-foods-and-beverages</td>\n",
       "      <td>Plant-based foods and beverages</td>\n",
       "    </tr>\n",
       "    <tr>\n",
       "      <th>3</th>\n",
       "      <td>en:seafood</td>\n",
       "      <td>Seafood</td>\n",
       "    </tr>\n",
       "    <tr>\n",
       "      <th>4</th>\n",
       "      <td>en:dietary-supplements</td>\n",
       "      <td>Dietary supplements</td>\n",
       "    </tr>\n",
       "  </tbody>\n",
       "</table>\n",
       "</div>"
      ],
      "text/plain": [
       "                        main_category                 main_category_en\n",
       "0                             en:pies                             Pies\n",
       "1  en:plant-based-foods-and-beverages  Plant-based foods and beverages\n",
       "2  en:plant-based-foods-and-beverages  Plant-based foods and beverages\n",
       "3                          en:seafood                          Seafood\n",
       "4              en:dietary-supplements              Dietary supplements"
      ]
     },
     "execution_count": 30,
     "metadata": {},
     "output_type": "execute_result"
    }
   ],
   "source": [
    "analyze_columns(['main_category', 'main_category_en'])"
   ]
  },
  {
   "cell_type": "markdown",
   "metadata": {},
   "source": [
    "Their percentage of `nan` values are identical, we keep `main_category_en`."
   ]
  },
  {
   "cell_type": "code",
   "execution_count": 31,
   "metadata": {},
   "outputs": [],
   "source": [
    "redundant_columns_to_drop += ['main_category']"
   ]
  },
  {
   "cell_type": "markdown",
   "metadata": {},
   "source": [
    "### Dropping columns and performing conversions"
   ]
  },
  {
   "cell_type": "markdown",
   "metadata": {},
   "source": [
    "Finally, we remove all the columns from the dataframe and we convert several columns from strings to list of strings."
   ]
  },
  {
   "cell_type": "code",
   "execution_count": 32,
   "metadata": {},
   "outputs": [
    {
     "name": "stdout",
     "output_type": "stream",
     "text": [
      "['categories_en', 'categories', 'countries', 'countries_tags', 'packaging_tags', 'brands', 'origins_tags', 'manufacturing_places_tags', 'labels', 'labels_tags', 'traces', 'traces_en', 'serving_size', 'additives', 'additives_en', 'main_category']\n",
      "['categories_tags', 'packaging', 'brands_tags', 'labels_en', 'traces_tags', 'additives_tags']\n"
     ]
    }
   ],
   "source": [
    "print(redundant_columns_to_drop)\n",
    "print(columns_to_convert)"
   ]
  },
  {
   "cell_type": "code",
   "execution_count": 33,
   "metadata": {},
   "outputs": [
    {
     "data": {
      "text/plain": [
       "(692133, 59)"
      ]
     },
     "execution_count": 33,
     "metadata": {},
     "output_type": "execute_result"
    }
   ],
   "source": [
    "df = df.drop(redundant_columns_to_drop, axis = 1)\n",
    "df.shape"
   ]
  },
  {
   "cell_type": "code",
   "execution_count": 36,
   "metadata": {},
   "outputs": [
    {
     "name": "stdout",
     "output_type": "stream",
     "text": [
      "<class 'pandas.core.frame.DataFrame'>\n",
      "RangeIndex: 692133 entries, 0 to 692132\n",
      "Data columns (total 59 columns):\n",
      "code                                          692099 non-null object\n",
      "url                                           692099 non-null object\n",
      "creator                                       692130 non-null object\n",
      "created_datetime                              692098 non-null datetime64[ns]\n",
      "last_modified_datetime                        692099 non-null datetime64[ns]\n",
      "product_name                                  665819 non-null object\n",
      "generic_name                                  76748 non-null object\n",
      "quantity                                      192720 non-null object\n",
      "packaging                                     692133 non-null object\n",
      "brands_tags                                   692133 non-null object\n",
      "categories_tags                               692133 non-null object\n",
      "origins                                       41777 non-null object\n",
      "manufacturing_places                          66583 non-null object\n",
      "labels_en                                     692133 non-null object\n",
      "first_packaging_code_geo                      27776 non-null object\n",
      "cities_tags                                   29605 non-null object\n",
      "purchase_places                               100010 non-null object\n",
      "stores                                        90491 non-null object\n",
      "countries_en                                  691529 non-null object\n",
      "ingredients_text                              392808 non-null object\n",
      "allergens                                     68631 non-null object\n",
      "traces_tags                                   692133 non-null object\n",
      "serving_quantity                              673777 non-null object\n",
      "additives_n                                   392774 non-null float64\n",
      "additives_tags                                692133 non-null object\n",
      "ingredients_from_palm_oil_n                   392774 non-null float64\n",
      "ingredients_from_palm_oil_tags                11955 non-null object\n",
      "ingredients_that_may_be_from_palm_oil_n       392774 non-null float64\n",
      "ingredients_that_may_be_from_palm_oil_tags    22755 non-null object\n",
      "nutrition_grade_fr                            139649 non-null object\n",
      "main_category_en                              178209 non-null object\n",
      "energy_100g                                   590474 non-null float64\n",
      "fat_100g                                      585059 non-null float64\n",
      "saturated-fat_100g                            559194 non-null float64\n",
      "monounsaturated-fat_100g                      23740 non-null float64\n",
      "polyunsaturated-fat_100g                      23781 non-null float64\n",
      "trans-fat_100g                                143944 non-null float64\n",
      "cholesterol_100g                              144617 non-null float64\n",
      "carbohydrates_100g                            584805 non-null float64\n",
      "sugars_100g                                   574464 non-null float64\n",
      "fiber_100g                                    273288 non-null float64\n",
      "proteins_100g                                 589052 non-null float64\n",
      "salt_100g                                     569270 non-null float64\n",
      "sodium_100g                                   569234 non-null float64\n",
      "alcohol_100g                                  7875 non-null float64\n",
      "vitamin-a_100g                                138291 non-null float64\n",
      "vitamin-d_100g                                7737 non-null float64\n",
      "vitamin-c_100g                                141679 non-null float64\n",
      "vitamin-b1_100g                               11792 non-null float64\n",
      "vitamin-b2_100g                               11357 non-null float64\n",
      "vitamin-pp_100g                               12248 non-null float64\n",
      "vitamin-b6_100g                               7374 non-null float64\n",
      "potassium_100g                                25397 non-null float64\n",
      "calcium_100g                                  143425 non-null float64\n",
      "iron_100g                                     141560 non-null float64\n",
      "magnesium_100g                                7018 non-null float64\n",
      "fruits-vegetables-nuts-estimate_100g          7674 non-null float64\n",
      "nutrition-score-fr_100g                       139649 non-null float64\n",
      "nutrition-score-uk_100g                       139649 non-null float64\n",
      "dtypes: datetime64[ns](2), float64(31), object(26)\n",
      "memory usage: 311.6+ MB\n"
     ]
    }
   ],
   "source": [
    "for col in columns_to_convert:\n",
    "    df[col] = df[col].astype(str).apply(lambda s: s if s == 'nan' else s.split(','))\n",
    "    \n",
    "df.info(verbose = True)"
   ]
  },
  {
   "cell_type": "code",
   "execution_count": null,
   "metadata": {},
   "outputs": [],
   "source": []
  }
 ],
 "metadata": {
  "kernelspec": {
   "display_name": "Python 3",
   "language": "python",
   "name": "python3"
  },
  "language_info": {
   "codemirror_mode": {
    "name": "ipython",
    "version": 3
   },
   "file_extension": ".py",
   "mimetype": "text/x-python",
   "name": "python",
   "nbconvert_exporter": "python",
   "pygments_lexer": "ipython3",
   "version": "3.6.5"
  }
 },
 "nbformat": 4,
 "nbformat_minor": 2
}
