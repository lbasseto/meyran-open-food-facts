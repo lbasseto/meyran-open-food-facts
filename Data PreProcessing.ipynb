{
 "cells": [
  {
   "cell_type": "code",
   "execution_count": 1,
   "metadata": {},
   "outputs": [],
   "source": [
    "import pandas as pd\n",
    "import numpy as np"
   ]
  },
  {
   "cell_type": "code",
   "execution_count": 2,
   "metadata": {},
   "outputs": [
    {
     "name": "stderr",
     "output_type": "stream",
     "text": [
      "/Users/AP/anaconda3/lib/python3.7/site-packages/IPython/core/interactiveshell.py:2785: DtypeWarning: Columns (3,5,36,41) have mixed types. Specify dtype option on import or set low_memory=False.\n",
      "  interactivity=interactivity, compiler=compiler, result=result)\n"
     ]
    }
   ],
   "source": [
    "csv_path = './data/en.openfoodfacts.org.products.csv'\n",
    "\n",
    "small_data = './data/subset.csv'\n",
    "\n",
    "dtype={\n",
    "    'code': object,\n",
    "    'origins': object, \n",
    "    'origins_tags': object, \n",
    "    'emb_codes': object, \n",
    "    'emb_codes_tags': object, \n",
    "    'first_packaging_code_geo': object , \n",
    "    'cities': object,\n",
    "    'cities_tags': object,\n",
    "    'allergens': object,\n",
    "    'ingredients_from_palm_oil_tags': object\n",
    "}\n",
    "\n",
    "raw_df = pd.read_csv(csv_path, sep='\\t', dtype=dtype, parse_dates=['created_datetime', 'last_modified_datetime'])\n"
   ]
  },
  {
   "cell_type": "raw",
   "metadata": {},
   "source": [
    "\n",
    "for ty, col in zip(raw_df.dtypes, raw_df.columns):\n",
    "    print(col, \"   \" ,ty)"
   ]
  },
  {
   "cell_type": "code",
   "execution_count": 3,
   "metadata": {},
   "outputs": [],
   "source": [
    "# find incomplete columns\n",
    "total_len = len(raw_df)\n",
    "amount_of_nan = {col: raw_df[col].isna().sum() / total_len for col in raw_df.columns}"
   ]
  },
  {
   "cell_type": "code",
   "execution_count": 4,
   "metadata": {},
   "outputs": [],
   "source": [
    "redundant_cols = ['created_t', 'last_modified_t', 'countries', 'countries_tags']\n",
    "raw_df.drop(redundant_cols, axis=1, inplace=True)\n",
    "\n",
    "threshold = 0.99\n",
    "cols_with_more_than_threshold = [col for col, number in amount_of_nan.items() if number > threshold ]\n",
    "\n",
    "cols_with_more_than_threshold\n",
    "\n",
    "\n",
    "cleaner_df = raw_df.drop(cols_with_more_than_threshold, axis=1)\n",
    "\n",
    "\n"
   ]
  },
  {
   "cell_type": "code",
   "execution_count": 8,
   "metadata": {},
   "outputs": [
    {
     "data": {
      "text/plain": [
       "86"
      ]
     },
     "execution_count": 8,
     "metadata": {},
     "output_type": "execute_result"
    }
   ],
   "source": [
    "len(cleaner_df.columns)"
   ]
  },
  {
   "cell_type": "code",
   "execution_count": 10,
   "metadata": {},
   "outputs": [
    {
     "data": {
      "text/plain": [
       "{'code': 4.912350660927885e-05,\n",
       " 'url': 4.912350660927885e-05,\n",
       " 'creator': 4.334427053759899e-06,\n",
       " 'created_datetime': 0.0,\n",
       " 'last_modified_datetime': 0.0,\n",
       " 'product_name': 0.03801870449754599,\n",
       " 'generic_name': 0.8891137974926784,\n",
       " 'quantity': 0.7215564060664641,\n",
       " 'packaging': 0.798930263403132,\n",
       " 'packaging_tags': 0.7989345978301858,\n",
       " 'brands': 0.331028862949751,\n",
       " 'brands_tags': 0.3310779864563603,\n",
       " 'categories': 0.7423645455425475,\n",
       " 'categories_tags': 0.7423659903515654,\n",
       " 'categories_en': 0.7424151138581746,\n",
       " 'origins': 0.9396402136583576,\n",
       " 'origins_tags': 0.9397182333453252,\n",
       " 'manufacturing_places': 0.9038002811598349,\n",
       " 'manufacturing_places_tags': 0.9038291773401933,\n",
       " 'labels': 0.853088929439862,\n",
       " 'labels_tags': 0.8530441403603065,\n",
       " 'labels_en': 0.8530441403603065,\n",
       " 'emb_codes': 0.9365208709886683,\n",
       " 'emb_codes_tags': 0.9365858873944748,\n",
       " 'first_packaging_code_geo': 0.959868984718255,\n",
       " 'cities_tags': 0.9572264290244794,\n",
       " 'purchase_places': 0.8555046501178242,\n",
       " 'stores': 0.8692577871594044,\n",
       " 'countries_en': 0.0008726646468236596,\n",
       " 'ingredients_text': 0.4324674592888939,\n",
       " 'allergens': 0.9008413122911348,\n",
       " 'traces': 0.9323627106350947,\n",
       " 'traces_tags': 0.9146825826828081,\n",
       " 'traces_en': 0.9146825826828081,\n",
       " 'serving_size': 0.6539378992187918,\n",
       " 'serving_quantity': 0.026520914332938902,\n",
       " 'additives_n': 0.4325165827955032,\n",
       " 'additives': 0.4325353653127361,\n",
       " 'additives_tags': 0.6948780075505719,\n",
       " 'additives_en': 0.6949256862481633,\n",
       " 'ingredients_from_palm_oil_n': 0.4325165827955032,\n",
       " 'ingredients_from_palm_oil_tags': 0.9827273081907668,\n",
       " 'ingredients_that_may_be_from_palm_oil_n': 0.4325165827955032,\n",
       " 'ingredients_that_may_be_from_palm_oil_tags': 0.9671233707972312,\n",
       " 'nutrition_grade_fr': 0.7982338654564947,\n",
       " 'pnns_groups_1': 0.630663470749119,\n",
       " 'pnns_groups_2': 0.6221145357900866,\n",
       " 'states': 9.82470132185577e-05,\n",
       " 'states_tags': 9.82470132185577e-05,\n",
       " 'states_en': 9.82470132185577e-05,\n",
       " 'main_category': 0.7425220297255007,\n",
       " 'main_category_en': 0.7425220297255007,\n",
       " 'image_url': 0.8679401213350614,\n",
       " 'image_small_url': 0.8679401213350614,\n",
       " 'image_ingredients_url': 0.9133374654871246,\n",
       " 'image_ingredients_small_url': 0.9133374654871246,\n",
       " 'image_nutrition_url': 0.9299787757555268,\n",
       " 'image_nutrition_small_url': 0.9299787757555268,\n",
       " 'energy_100g': 0.14687783995272585,\n",
       " 'fat_100g': 0.15470148078476248,\n",
       " 'saturated-fat_100g': 0.1920714660332624,\n",
       " 'monounsaturated-fat_100g': 0.96570023391458,\n",
       " 'polyunsaturated-fat_100g': 0.9656409967448453,\n",
       " 'trans-fat_100g': 0.7920284107245283,\n",
       " 'cholesterol_100g': 0.7910560542554682,\n",
       " 'carbohydrates_100g': 0.15506846227531415,\n",
       " 'sugars_100g': 0.1700092323296245,\n",
       " 'fiber_100g': 0.6051510331106883,\n",
       " 'proteins_100g': 0.14893235837620805,\n",
       " 'salt_100g': 0.1775135703687008,\n",
       " 'sodium_100g': 0.17756558349334592,\n",
       " 'alcohol_100g': 0.9886221289838802,\n",
       " 'vitamin-a_100g': 0.8001959161028299,\n",
       " 'vitamin-d_100g': 0.9888215126283533,\n",
       " 'vitamin-c_100g': 0.7953009031501171,\n",
       " 'vitamin-b1_100g': 0.9829628120606878,\n",
       " 'vitamin-b2_100g': 0.9835913039834829,\n",
       " 'vitamin-pp_100g': 0.9823039791485163,\n",
       " 'vitamin-b6_100g': 0.9893459783018582,\n",
       " 'potassium_100g': 0.9633061853718866,\n",
       " 'calcium_100g': 0.7927782666048289,\n",
       " 'iron_100g': 0.7954728354232495,\n",
       " 'magnesium_100g': 0.9898603303122376,\n",
       " 'fruits-vegetables-nuts-estimate_100g': 0.9889125355964822,\n",
       " 'nutrition-score-fr_100g': 0.7982338654564947,\n",
       " 'nutrition-score-uk_100g': 0.7982338654564947}"
      ]
     },
     "execution_count": 10,
     "metadata": {},
     "output_type": "execute_result"
    }
   ],
   "source": [
    "# find incomplete columns\n",
    "total_len = len(cleaner_df)\n",
    "amount_of_nan = {col: cleaner_df[col].isna().sum() / total_len for col in cleaner_df.columns}\n",
    "amount_of_nan"
   ]
  },
  {
   "cell_type": "code",
   "execution_count": 26,
   "metadata": {},
   "outputs": [
    {
     "data": {
      "text/plain": [
       "10        E150 - Caramel,E160a - Alpha-carotene,E202 - P...\n",
       "15                                              E406 - Agar\n",
       "31          E300 - Ascorbic acid,E503 - Ammonium carbonates\n",
       "33                                 E202 - Potassium sorbate\n",
       "44           E250 - Sodium nitrite,E252 - Potassium nitrate\n",
       "46        E14XX - Modified Starch,E262 - Sodium acetates...\n",
       "66                                       E307c - Tocopherol\n",
       "81                        E322 - Lecithins,E322i - Lecithin\n",
       "83                                       E330 - Citric acid\n",
       "84        E322 - Lecithins,E322i - Lecithin,E410 - Locus...\n",
       "89                                       E330 - Citric acid\n",
       "92                        E322 - Lecithins,E322i - Lecithin\n",
       "93                        E322 - Lecithins,E322i - Lecithin\n",
       "103                       E322 - Lecithins,E322i - Lecithin\n",
       "106                                         E422 - Glycerol\n",
       "110       E1422 - Acetylated distarch adipate,E450 - Dip...\n",
       "127                         E160b - Annatto,E422 - Glycerol\n",
       "131                    E101 - Riboflavin,E101i - Riboflavin\n",
       "133                    E101 - Riboflavin,E101i - Riboflavin\n",
       "135       E341 - Calcium phosphates,E341i - Monocalcium ...\n",
       "145                                      E415 - Xanthan gum\n",
       "155                       E322 - Lecithins,E322i - Lecithin\n",
       "165                                         E1510 - Ethanon\n",
       "166                                         E1510 - Ethanon\n",
       "170                       E322 - Lecithins,E322i - Lecithin\n",
       "171                       E322 - Lecithins,E322i - Lecithin\n",
       "173       E322 - Lecithins,E322i - Lecithin,E471 - Mono-...\n",
       "175       E270 - Lactic acid,E322 - Lecithins,E322i - Le...\n",
       "213                                  E220 - Sulphur dioxide\n",
       "216                                      E330 - Citric acid\n",
       "                                ...                        \n",
       "691865    E1450 - Starch sodium octenyl succinate,E471 -...\n",
       "691868    E100 - Curcumin,E420 - Sorbitol,E420i - Sorbit...\n",
       "691869             E150a - Plain caramel,E270 - Lactic acid\n",
       "691877        E14XX - Modified Starch,E150a - Plain caramel\n",
       "691883    E500 - Sodium carbonates,E500ii - Sodium hydro...\n",
       "691884                                 E300 - Ascorbic acid\n",
       "691894     E330 - Citric acid,E440 - Pectins,E440i - Pectin\n",
       "691908    E340 - Potassium phosphates,E452 - Polyphosphates\n",
       "691911    E322 - Lecithins,E322i - Lecithin,E500 - Sodiu...\n",
       "691920    E450 - Diphosphates,E450i - Disodium diphospha...\n",
       "691922     E150c - Ammonia caramel,E510 - Ammonium chloride\n",
       "691936    E296 - Malic acid,E330 - Citric acid,E422 - Gl...\n",
       "691939                                 E300 - Ascorbic acid\n",
       "691961                    E322 - Lecithins,E322i - Lecithin\n",
       "691967    E101 - Riboflavin,E161b - Lutein,E307 - Alpha-...\n",
       "691985              E1450 - Starch sodium octenyl succinate\n",
       "691996                                   E330 - Citric acid\n",
       "691998    E330 - Citric acid,E464 - Hydroxypropyl methyl...\n",
       "692005                   E407a - Processed eucheuma seaweed\n",
       "692007    E102 - Tartrazine,E110 - Sunset yellow FCF,E12...\n",
       "692017    E422 - Glycerol,E471 - Mono- and diglycerides ...\n",
       "692018    E322 - Lecithins,E500 - Sodium carbonates,E503...\n",
       "692027    E1200 - Polydextrose,E322 - Lecithins,E322i - ...\n",
       "692034    E1200 - Polydextrose,E412 - Guar gum,E415 - Xa...\n",
       "692052                    E322 - Lecithins,E322i - Lecithin\n",
       "692091    E14XX - Modified Starch,E407 - Carrageenan,E41...\n",
       "692112                                 E300 - Ascorbic acid\n",
       "692119                              E160c - Paprika extract\n",
       "692120    E171 - Titanium dioxide,E322 - Lecithins,E322i...\n",
       "692124    E102 - Tartrazine,E129 - Allura red ac,E150a -...\n",
       "Name: additives_en, Length: 211152, dtype: object"
      ]
     },
     "execution_count": 26,
     "metadata": {},
     "output_type": "execute_result"
    }
   ],
   "source": [
    "test = cleaner_df['additives_en'].dropna()\n",
    "test"
   ]
  },
  {
   "cell_type": "code",
   "execution_count": null,
   "metadata": {},
   "outputs": [],
   "source": []
  }
 ],
 "metadata": {
  "kernelspec": {
   "display_name": "Python 3",
   "language": "python",
   "name": "python3"
  },
  "language_info": {
   "codemirror_mode": {
    "name": "ipython",
    "version": 3
   },
   "file_extension": ".py",
   "mimetype": "text/x-python",
   "name": "python",
   "nbconvert_exporter": "python",
   "pygments_lexer": "ipython3",
   "version": "3.7.0"
  }
 },
 "nbformat": 4,
 "nbformat_minor": 2
}
